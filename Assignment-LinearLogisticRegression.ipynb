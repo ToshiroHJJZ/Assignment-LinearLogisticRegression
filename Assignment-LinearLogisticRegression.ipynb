{
 "cells": [
  {
   "cell_type": "markdown",
   "id": "7c923009",
   "metadata": {
    "colab_type": "text",
    "id": "0MRC0e0KhQ0S"
   },
   "source": [
    "# Linear and Logistic Regression"
   ]
  },
  {
   "cell_type": "markdown",
   "id": "7c57266e",
   "metadata": {
    "colab_type": "text",
    "id": "LWd1UlMnhT2s"
   },
   "source": [
    "## Importing the libraries"
   ]
  },
  {
   "cell_type": "code",
   "execution_count": 68,
   "id": "927f153c",
   "metadata": {},
   "outputs": [],
   "source": [
    "import matplotlib.pyplot as plt\n",
    "import pandas as pd\n",
    "import numpy as np\n",
    "import seaborn as sns\n",
    "import warnings\n",
    "warnings.filterwarnings('ignore')"
   ]
  },
  {
   "cell_type": "markdown",
   "id": "4c9f37b8",
   "metadata": {
    "colab_type": "text",
    "id": "K1VMqkGvhc3-"
   },
   "source": [
    "## Importing the dataset"
   ]
  },
  {
   "cell_type": "code",
   "execution_count": 7,
   "id": "b3dc6012",
   "metadata": {},
   "outputs": [],
   "source": [
    "data = pd.read_csv(\"HRV.csv\")"
   ]
  },
  {
   "cell_type": "code",
   "execution_count": 9,
   "id": "8c0a0ed6",
   "metadata": {},
   "outputs": [
    {
     "data": {
      "text/html": [
       "<div>\n",
       "<style scoped>\n",
       "    .dataframe tbody tr th:only-of-type {\n",
       "        vertical-align: middle;\n",
       "    }\n",
       "\n",
       "    .dataframe tbody tr th {\n",
       "        vertical-align: top;\n",
       "    }\n",
       "\n",
       "    .dataframe thead th {\n",
       "        text-align: right;\n",
       "    }\n",
       "</style>\n",
       "<table border=\"1\" class=\"dataframe\">\n",
       "  <thead>\n",
       "    <tr style=\"text-align: right;\">\n",
       "      <th></th>\n",
       "      <th>male</th>\n",
       "      <th>age</th>\n",
       "      <th>currentSmoker</th>\n",
       "      <th>totChol</th>\n",
       "      <th>sysBP</th>\n",
       "      <th>diaBP</th>\n",
       "      <th>BMI</th>\n",
       "      <th>heartRate</th>\n",
       "      <th>glucose</th>\n",
       "      <th>TenYearCHD</th>\n",
       "    </tr>\n",
       "  </thead>\n",
       "  <tbody>\n",
       "    <tr>\n",
       "      <th>0</th>\n",
       "      <td>1</td>\n",
       "      <td>39</td>\n",
       "      <td>0</td>\n",
       "      <td>195.0</td>\n",
       "      <td>106.0</td>\n",
       "      <td>70.0</td>\n",
       "      <td>26.97</td>\n",
       "      <td>80.0</td>\n",
       "      <td>77.0</td>\n",
       "      <td>0</td>\n",
       "    </tr>\n",
       "    <tr>\n",
       "      <th>1</th>\n",
       "      <td>0</td>\n",
       "      <td>46</td>\n",
       "      <td>0</td>\n",
       "      <td>250.0</td>\n",
       "      <td>121.0</td>\n",
       "      <td>81.0</td>\n",
       "      <td>28.73</td>\n",
       "      <td>95.0</td>\n",
       "      <td>76.0</td>\n",
       "      <td>0</td>\n",
       "    </tr>\n",
       "    <tr>\n",
       "      <th>2</th>\n",
       "      <td>1</td>\n",
       "      <td>48</td>\n",
       "      <td>1</td>\n",
       "      <td>245.0</td>\n",
       "      <td>127.5</td>\n",
       "      <td>80.0</td>\n",
       "      <td>25.34</td>\n",
       "      <td>75.0</td>\n",
       "      <td>70.0</td>\n",
       "      <td>0</td>\n",
       "    </tr>\n",
       "    <tr>\n",
       "      <th>3</th>\n",
       "      <td>0</td>\n",
       "      <td>61</td>\n",
       "      <td>1</td>\n",
       "      <td>225.0</td>\n",
       "      <td>150.0</td>\n",
       "      <td>95.0</td>\n",
       "      <td>28.58</td>\n",
       "      <td>65.0</td>\n",
       "      <td>103.0</td>\n",
       "      <td>1</td>\n",
       "    </tr>\n",
       "    <tr>\n",
       "      <th>4</th>\n",
       "      <td>0</td>\n",
       "      <td>46</td>\n",
       "      <td>1</td>\n",
       "      <td>285.0</td>\n",
       "      <td>130.0</td>\n",
       "      <td>84.0</td>\n",
       "      <td>23.10</td>\n",
       "      <td>85.0</td>\n",
       "      <td>85.0</td>\n",
       "      <td>0</td>\n",
       "    </tr>\n",
       "  </tbody>\n",
       "</table>\n",
       "</div>"
      ],
      "text/plain": [
       "   male  age  currentSmoker  totChol  sysBP  diaBP    BMI  heartRate  glucose  \\\n",
       "0     1   39              0    195.0  106.0   70.0  26.97       80.0     77.0   \n",
       "1     0   46              0    250.0  121.0   81.0  28.73       95.0     76.0   \n",
       "2     1   48              1    245.0  127.5   80.0  25.34       75.0     70.0   \n",
       "3     0   61              1    225.0  150.0   95.0  28.58       65.0    103.0   \n",
       "4     0   46              1    285.0  130.0   84.0  23.10       85.0     85.0   \n",
       "\n",
       "   TenYearCHD  \n",
       "0           0  \n",
       "1           0  \n",
       "2           0  \n",
       "3           1  \n",
       "4           0  "
      ]
     },
     "execution_count": 9,
     "metadata": {},
     "output_type": "execute_result"
    }
   ],
   "source": [
    "data.head()"
   ]
  },
  {
   "cell_type": "markdown",
   "id": "9dba4163",
   "metadata": {},
   "source": [
    "## Dataset Preprocessing"
   ]
  },
  {
   "cell_type": "code",
   "execution_count": 10,
   "id": "62e7690f",
   "metadata": {},
   "outputs": [
    {
     "name": "stdout",
     "output_type": "stream",
     "text": [
      "<class 'pandas.core.frame.DataFrame'>\n",
      "RangeIndex: 4234 entries, 0 to 4233\n",
      "Data columns (total 10 columns):\n",
      " #   Column         Non-Null Count  Dtype  \n",
      "---  ------         --------------  -----  \n",
      " 0   male           4234 non-null   int64  \n",
      " 1   age            4234 non-null   int64  \n",
      " 2   currentSmoker  4234 non-null   int64  \n",
      " 3   totChol        4184 non-null   float64\n",
      " 4   sysBP          4234 non-null   float64\n",
      " 5   diaBP          4234 non-null   float64\n",
      " 6   BMI            4215 non-null   float64\n",
      " 7   heartRate      4233 non-null   float64\n",
      " 8   glucose        3847 non-null   float64\n",
      " 9   TenYearCHD     4234 non-null   int64  \n",
      "dtypes: float64(6), int64(4)\n",
      "memory usage: 330.9 KB\n"
     ]
    }
   ],
   "source": [
    "data.info()"
   ]
  },
  {
   "cell_type": "code",
   "execution_count": 12,
   "id": "8271e44a",
   "metadata": {},
   "outputs": [
    {
     "data": {
      "text/plain": [
       "male               0\n",
       "age                0\n",
       "currentSmoker      0\n",
       "totChol           50\n",
       "sysBP              0\n",
       "diaBP              0\n",
       "BMI               19\n",
       "heartRate          1\n",
       "glucose          387\n",
       "TenYearCHD         0\n",
       "dtype: int64"
      ]
     },
     "execution_count": 12,
     "metadata": {},
     "output_type": "execute_result"
    }
   ],
   "source": [
    "data.isnull().sum()"
   ]
  },
  {
   "cell_type": "code",
   "execution_count": 63,
   "id": "70ffd52c",
   "metadata": {},
   "outputs": [
    {
     "data": {
      "text/plain": [
       "<AxesSubplot:xlabel='totChol', ylabel='Count'>"
      ]
     },
     "execution_count": 63,
     "metadata": {},
     "output_type": "execute_result"
    },
    {
     "data": {
      "image/png": "[encoded data removed]",
      "text/plain": [
       "<Figure size 640x480 with 1 Axes>"
      ]
     },
     "metadata": {},
     "output_type": "display_data"
    }
   ],
   "source": [
    "sns.histplot(data['totChol'])"
   ]
  },
  {
   "cell_type": "code",
   "execution_count": 18,
   "id": "1a232765",
   "metadata": {},
   "outputs": [],
   "source": [
    "col_median= data['totChol'].median()\n",
    "\n",
    "col_median\n",
    "\n",
    "data['totChol'].fillna(col_median, inplace = True)"
   ]
  },
  {
   "cell_type": "code",
   "execution_count": 22,
   "id": "a4998014",
   "metadata": {},
   "outputs": [],
   "source": [
    "BMI_mean= data['BMI'].mean()\n",
    "\n",
    "BMI_mean\n",
    "\n",
    "data['BMI'].fillna(BMI_mean, inplace = True)"
   ]
  },
  {
   "cell_type": "code",
   "execution_count": 24,
   "id": "801a29d8",
   "metadata": {},
   "outputs": [],
   "source": [
    "heartRate_mean = data['heartRate'].mean()\n",
    "\n",
    "heartRate_mean\n",
    "\n",
    "data['heartRate'].fillna(heartRate_mean, inplace = True)"
   ]
  },
  {
   "cell_type": "code",
   "execution_count": 26,
   "id": "83f130e6",
   "metadata": {},
   "outputs": [],
   "source": [
    "glucose_mean = data['glucose'].mean()\n",
    "\n",
    "glucose_mean\n",
    "\n",
    "data['glucose'].fillna(glucose_mean, inplace = True)"
   ]
  },
  {
   "cell_type": "code",
   "execution_count": 97,
   "id": "23accd45",
   "metadata": {},
   "outputs": [
    {
     "data": {
      "text/html": [
       "<div>\n",
       "<style scoped>\n",
       "    .dataframe tbody tr th:only-of-type {\n",
       "        vertical-align: middle;\n",
       "    }\n",
       "\n",
       "    .dataframe tbody tr th {\n",
       "        vertical-align: top;\n",
       "    }\n",
       "\n",
       "    .dataframe thead th {\n",
       "        text-align: right;\n",
       "    }\n",
       "</style>\n",
       "<table border=\"1\" class=\"dataframe\">\n",
       "  <thead>\n",
       "    <tr style=\"text-align: right;\">\n",
       "      <th></th>\n",
       "      <th>male</th>\n",
       "      <th>age</th>\n",
       "      <th>currentSmoker</th>\n",
       "      <th>totChol</th>\n",
       "      <th>sysBP</th>\n",
       "      <th>diaBP</th>\n",
       "      <th>BMI</th>\n",
       "      <th>heartRate</th>\n",
       "      <th>glucose</th>\n",
       "      <th>TenYearCHD</th>\n",
       "    </tr>\n",
       "  </thead>\n",
       "  <tbody>\n",
       "    <tr>\n",
       "      <th>count</th>\n",
       "      <td>4234.000000</td>\n",
       "      <td>4234.000000</td>\n",
       "      <td>4234.000000</td>\n",
       "      <td>4234.000000</td>\n",
       "      <td>4234.000000</td>\n",
       "      <td>4234.000000</td>\n",
       "      <td>4234.000000</td>\n",
       "      <td>4234.000000</td>\n",
       "      <td>4234.000000</td>\n",
       "      <td>4234.000000</td>\n",
       "    </tr>\n",
       "    <tr>\n",
       "      <th>mean</th>\n",
       "      <td>0.428909</td>\n",
       "      <td>49.583845</td>\n",
       "      <td>0.494095</td>\n",
       "      <td>236.691072</td>\n",
       "      <td>132.347780</td>\n",
       "      <td>82.886042</td>\n",
       "      <td>25.800624</td>\n",
       "      <td>75.882825</td>\n",
       "      <td>81.976085</td>\n",
       "      <td>0.151630</td>\n",
       "    </tr>\n",
       "    <tr>\n",
       "      <th>std</th>\n",
       "      <td>0.494979</td>\n",
       "      <td>8.575050</td>\n",
       "      <td>0.500024</td>\n",
       "      <td>44.345006</td>\n",
       "      <td>22.046338</td>\n",
       "      <td>11.911857</td>\n",
       "      <td>4.072013</td>\n",
       "      <td>12.029944</td>\n",
       "      <td>22.844392</td>\n",
       "      <td>0.358704</td>\n",
       "    </tr>\n",
       "    <tr>\n",
       "      <th>min</th>\n",
       "      <td>0.000000</td>\n",
       "      <td>32.000000</td>\n",
       "      <td>0.000000</td>\n",
       "      <td>107.000000</td>\n",
       "      <td>83.500000</td>\n",
       "      <td>48.000000</td>\n",
       "      <td>15.540000</td>\n",
       "      <td>44.000000</td>\n",
       "      <td>40.000000</td>\n",
       "      <td>0.000000</td>\n",
       "    </tr>\n",
       "    <tr>\n",
       "      <th>25%</th>\n",
       "      <td>0.000000</td>\n",
       "      <td>42.000000</td>\n",
       "      <td>0.000000</td>\n",
       "      <td>206.000000</td>\n",
       "      <td>117.000000</td>\n",
       "      <td>75.000000</td>\n",
       "      <td>23.072500</td>\n",
       "      <td>68.000000</td>\n",
       "      <td>72.000000</td>\n",
       "      <td>0.000000</td>\n",
       "    </tr>\n",
       "    <tr>\n",
       "      <th>50%</th>\n",
       "      <td>0.000000</td>\n",
       "      <td>49.000000</td>\n",
       "      <td>0.000000</td>\n",
       "      <td>234.000000</td>\n",
       "      <td>128.000000</td>\n",
       "      <td>82.000000</td>\n",
       "      <td>25.410000</td>\n",
       "      <td>75.000000</td>\n",
       "      <td>80.000000</td>\n",
       "      <td>0.000000</td>\n",
       "    </tr>\n",
       "    <tr>\n",
       "      <th>75%</th>\n",
       "      <td>1.000000</td>\n",
       "      <td>56.000000</td>\n",
       "      <td>1.000000</td>\n",
       "      <td>262.000000</td>\n",
       "      <td>144.000000</td>\n",
       "      <td>89.500000</td>\n",
       "      <td>28.027500</td>\n",
       "      <td>83.000000</td>\n",
       "      <td>85.000000</td>\n",
       "      <td>0.000000</td>\n",
       "    </tr>\n",
       "    <tr>\n",
       "      <th>max</th>\n",
       "      <td>1.000000</td>\n",
       "      <td>70.000000</td>\n",
       "      <td>1.000000</td>\n",
       "      <td>696.000000</td>\n",
       "      <td>295.000000</td>\n",
       "      <td>142.500000</td>\n",
       "      <td>56.800000</td>\n",
       "      <td>143.000000</td>\n",
       "      <td>394.000000</td>\n",
       "      <td>1.000000</td>\n",
       "    </tr>\n",
       "  </tbody>\n",
       "</table>\n",
       "</div>"
      ],
      "text/plain": [
       "              male          age  currentSmoker      totChol        sysBP  \\\n",
       "count  4234.000000  4234.000000    4234.000000  4234.000000  4234.000000   \n",
       "mean      0.428909    49.583845       0.494095   236.691072   132.347780   \n",
       "std       0.494979     8.575050       0.500024    44.345006    22.046338   \n",
       "min       0.000000    32.000000       0.000000   107.000000    83.500000   \n",
       "25%       0.000000    42.000000       0.000000   206.000000   117.000000   \n",
       "50%       0.000000    49.000000       0.000000   234.000000   128.000000   \n",
       "75%       1.000000    56.000000       1.000000   262.000000   144.000000   \n",
       "max       1.000000    70.000000       1.000000   696.000000   295.000000   \n",
       "\n",
       "             diaBP          BMI    heartRate      glucose   TenYearCHD  \n",
       "count  4234.000000  4234.000000  4234.000000  4234.000000  4234.000000  \n",
       "mean     82.886042    25.800624    75.882825    81.976085     0.151630  \n",
       "std      11.911857     4.072013    12.029944    22.844392     0.358704  \n",
       "min      48.000000    15.540000    44.000000    40.000000     0.000000  \n",
       "25%      75.000000    23.072500    68.000000    72.000000     0.000000  \n",
       "50%      82.000000    25.410000    75.000000    80.000000     0.000000  \n",
       "75%      89.500000    28.027500    83.000000    85.000000     0.000000  \n",
       "max     142.500000    56.800000   143.000000   394.000000     1.000000  "
      ]
     },
     "execution_count": 97,
     "metadata": {},
     "output_type": "execute_result"
    }
   ],
   "source": [
    "data.describe()"
   ]
  },
  {
   "cell_type": "code",
   "execution_count": 27,
   "id": "467a0868",
   "metadata": {
    "scrolled": true
   },
   "outputs": [
    {
     "data": {
      "text/plain": [
       "male             0\n",
       "age              0\n",
       "currentSmoker    0\n",
       "totChol          0\n",
       "sysBP            0\n",
       "diaBP            0\n",
       "BMI              0\n",
       "heartRate        0\n",
       "glucose          0\n",
       "TenYearCHD       0\n",
       "dtype: int64"
      ]
     },
     "execution_count": 27,
     "metadata": {},
     "output_type": "execute_result"
    }
   ],
   "source": [
    "data.isnull().sum()"
   ]
  },
  {
   "cell_type": "markdown",
   "id": "793c63be",
   "metadata": {},
   "source": [
    "## A. Linear Regression - Create a model to predict the cholestrol level of a person"
   ]
  },
  {
   "cell_type": "code",
   "execution_count": 30,
   "id": "4f535c39",
   "metadata": {},
   "outputs": [
    {
     "data": {
      "text/plain": [
       "Index(['male', 'age', 'currentSmoker', 'totChol', 'sysBP', 'diaBP', 'BMI',\n",
       "       'heartRate', 'glucose', 'TenYearCHD'],\n",
       "      dtype='object')"
      ]
     },
     "execution_count": 30,
     "metadata": {},
     "output_type": "execute_result"
    }
   ],
   "source": [
    "data.columns"
   ]
  },
  {
   "cell_type": "code",
   "execution_count": 48,
   "id": "e27aa410",
   "metadata": {},
   "outputs": [],
   "source": [
    "from sklearn.linear_model import LinearRegression\n",
    "from sklearn.model_selection import train_test_split"
   ]
  },
  {
   "cell_type": "markdown",
   "id": "576710cb",
   "metadata": {},
   "source": [
    "### Create independent and dependent variables to predict "
   ]
  },
  {
   "cell_type": "code",
   "execution_count": 49,
   "id": "0516c74e",
   "metadata": {},
   "outputs": [],
   "source": [
    "x = data[['male', 'age', 'currentSmoker', 'sysBP', 'diaBP', 'BMI',\n",
    "       'heartRate', 'glucose', 'TenYearCHD']]\n",
    "y = data['totChol']"
   ]
  },
  {
   "cell_type": "markdown",
   "id": "da73830c",
   "metadata": {
    "colab_type": "text",
    "id": "YvxIPVyMhmKp"
   },
   "source": [
    "## Splitting the dataset into the Training set and Test set"
   ]
  },
  {
   "cell_type": "code",
   "execution_count": 50,
   "id": "a75c397d",
   "metadata": {},
   "outputs": [],
   "source": [
    "X_train, X_test, y_train, y_test = train_test_split(x, y, test_size=0.2, random_state=42)\n"
   ]
  },
  {
   "cell_type": "markdown",
   "id": "cda193ba",
   "metadata": {},
   "source": [
    "## Training the Linear Regression model "
   ]
  },
  {
   "cell_type": "code",
   "execution_count": 51,
   "id": "bbd264c2",
   "metadata": {},
   "outputs": [
    {
     "data": {
      "text/plain": [
       "LinearRegression()"
      ]
     },
     "execution_count": 51,
     "metadata": {},
     "output_type": "execute_result"
    }
   ],
   "source": [
    "regressor = LinearRegression()\n",
    "# .fit() to train your model\n",
    "regressor.fit(X_train.values, y_train)"
   ]
  },
  {
   "cell_type": "markdown",
   "id": "cfc79ab9",
   "metadata": {},
   "source": [
    "## Model performance check- R Square and RMSE score"
   ]
  },
  {
   "cell_type": "code",
   "execution_count": 54,
   "id": "78a5f5ef",
   "metadata": {},
   "outputs": [],
   "source": [
    "y_pred = regressor.predict(X_test.values)"
   ]
  },
  {
   "cell_type": "code",
   "execution_count": 55,
   "id": "2436c018",
   "metadata": {},
   "outputs": [
    {
     "name": "stdout",
     "output_type": "stream",
     "text": [
      "MSE: 1705.90\n",
      "RMSE: 41.30\n",
      "R-square: 0.09\n"
     ]
    }
   ],
   "source": [
    "from sklearn.metrics import mean_squared_error, r2_score\n",
    "import math\n",
    "\n",
    "print(f\"MSE: {mean_squared_error(y_test, y_pred):.2f}\")\n",
    "print(f\"RMSE: {math.sqrt(mean_squared_error(y_test, y_pred)):.2f}\")\n",
    "print(f\"R-square: {r2_score(y_test, y_pred):.2f}\")"
   ]
  },
  {
   "attachments": {
    "image-2.png": {
     "image/png": "[encoded data removed]"
    }
   },
   "cell_type": "markdown",
   "id": "6da8b409",
   "metadata": {
    "colab_type": "text",
    "id": "yyxW5b395mR2"
   },
   "source": [
    "## Predicting new results where the actual results are given\n",
    "![image-2.png](attachment:image-2.png)"
   ]
  },
  {
   "cell_type": "code",
   "execution_count": 59,
   "id": "fd71468c",
   "metadata": {},
   "outputs": [
    {
     "data": {
      "text/plain": [
       "array([230.68697534])"
      ]
     },
     "execution_count": 59,
     "metadata": {},
     "output_type": "execute_result"
    }
   ],
   "source": [
    "# case 1: actual 217\n",
    "regressor.predict([[1,44,1,144,99,25.16,68,60,0]])"
   ]
  },
  {
   "cell_type": "code",
   "execution_count": 60,
   "id": "78935eeb",
   "metadata": {},
   "outputs": [
    {
     "data": {
      "text/plain": [
       "array([239.1892207])"
      ]
     },
     "execution_count": 60,
     "metadata": {},
     "output_type": "execute_result"
    }
   ],
   "source": [
    "# case 2 actual 249\n",
    "regressor.predict([[1,50,1,133,88,28.5,75,75,1]])"
   ]
  },
  {
   "cell_type": "code",
   "execution_count": 61,
   "id": "8d045d24",
   "metadata": {},
   "outputs": [
    {
     "data": {
      "text/plain": [
       "array([244.95130529])"
      ]
     },
     "execution_count": 61,
     "metadata": {},
     "output_type": "execute_result"
    }
   ],
   "source": [
    "# case 3 actual 256\n",
    "regressor.predict([[1,56,0,147,96,30.42,72,75,0]])"
   ]
  },
  {
   "cell_type": "markdown",
   "id": "b097d7c3",
   "metadata": {},
   "source": [
    "## B. Logistic Regression - Create a model to predict the 10 year risk of coronary heart disease CHD of a person"
   ]
  },
  {
   "cell_type": "code",
   "execution_count": null,
   "id": "de303b1b",
   "metadata": {},
   "outputs": [],
   "source": []
  },
  {
   "cell_type": "markdown",
   "id": "97e40a21",
   "metadata": {},
   "source": [
    "### Create independent and dependent variables to predict"
   ]
  },
  {
   "cell_type": "code",
   "execution_count": 65,
   "id": "9564b91c",
   "metadata": {},
   "outputs": [],
   "source": [
    "x = data[['male', 'age', 'currentSmoker', 'sysBP', 'diaBP', 'BMI',\n",
    "       'heartRate', 'glucose', 'TenYearCHD','totChol']]\n",
    "y = data['TenYearCHD']"
   ]
  },
  {
   "cell_type": "markdown",
   "id": "f02d58c5",
   "metadata": {},
   "source": [
    "## Splitting the dataset into the Training set and Test set"
   ]
  },
  {
   "cell_type": "code",
   "execution_count": 66,
   "id": "23f327b4",
   "metadata": {},
   "outputs": [],
   "source": [
    "from sklearn.model_selection import train_test_split\n",
    "x_train,x_test,y_train,y_test = train_test_split(x,y,test_size=.33,random_state=0)"
   ]
  },
  {
   "cell_type": "markdown",
   "id": "f432947f",
   "metadata": {
    "colab_type": "text",
    "id": "bb6jCOCQiAmP"
   },
   "source": [
    "## Training the Logistic Regression model "
   ]
  },
  {
   "cell_type": "code",
   "execution_count": 82,
   "id": "9763d93c",
   "metadata": {},
   "outputs": [
    {
     "data": {
      "text/plain": [
       "LogisticRegression()"
      ]
     },
     "execution_count": 82,
     "metadata": {},
     "output_type": "execute_result"
    }
   ],
   "source": [
    "from sklearn.linear_model import LogisticRegression\n",
    "\n",
    "classifier=LogisticRegression()\n",
    "#.fit to train your model\n",
    "classifier.fit(x_train.values,y_train)"
   ]
  },
  {
   "cell_type": "code",
   "execution_count": 83,
   "id": "b7a56e7c",
   "metadata": {},
   "outputs": [],
   "source": [
    "y_pred=classifier.predict(x_test.values)"
   ]
  },
  {
   "cell_type": "markdown",
   "id": "08f60a49",
   "metadata": {},
   "source": [
    "### Model Performance check using Confusion matrix, Confusion matrix display and classification report"
   ]
  },
  {
   "cell_type": "code",
   "execution_count": 84,
   "id": "4571f667",
   "metadata": {},
   "outputs": [],
   "source": [
    "from sklearn.metrics import confusion_matrix, classification_report, ConfusionMatrixDisplay"
   ]
  },
  {
   "cell_type": "code",
   "execution_count": 85,
   "id": "ef75cf89",
   "metadata": {},
   "outputs": [
    {
     "data": {
      "text/plain": [
       "3554    0\n",
       "410     0\n",
       "3868    1\n",
       "1487    0\n",
       "840     1\n",
       "       ..\n",
       "3829    1\n",
       "2527    0\n",
       "349     0\n",
       "2100    0\n",
       "2842    1\n",
       "Name: TenYearCHD, Length: 1398, dtype: int64"
      ]
     },
     "execution_count": 85,
     "metadata": {},
     "output_type": "execute_result"
    }
   ],
   "source": [
    "y_test"
   ]
  },
  {
   "cell_type": "code",
   "execution_count": 86,
   "id": "78d79399",
   "metadata": {},
   "outputs": [
    {
     "data": {
      "text/plain": [
       "array([0, 0, 1, ..., 0, 0, 1], dtype=int64)"
      ]
     },
     "execution_count": 86,
     "metadata": {},
     "output_type": "execute_result"
    }
   ],
   "source": [
    "y_pred"
   ]
  },
  {
   "cell_type": "code",
   "execution_count": 87,
   "id": "8add9204",
   "metadata": {},
   "outputs": [
    {
     "name": "stdout",
     "output_type": "stream",
     "text": [
      "[[1182    0]\n",
      " [   0  216]]\n"
     ]
    }
   ],
   "source": [
    "cm=confusion_matrix(y_test,y_pred)\n",
    "print(cm)"
   ]
  },
  {
   "cell_type": "code",
   "execution_count": 75,
   "id": "e3cbfe2b",
   "metadata": {},
   "outputs": [
    {
     "data": {
      "image/png": "[encoded data removed]",
      "text/plain": [
       "<Figure size 640x480 with 2 Axes>"
      ]
     },
     "metadata": {},
     "output_type": "display_data"
    }
   ],
   "source": [
    "disp= ConfusionMatrixDisplay(confusion_matrix=cm,display_labels=classifier.classes_)\n",
    "disp.plot()\n",
    "plt.show()"
   ]
  },
  {
   "cell_type": "markdown",
   "id": "10bd8987",
   "metadata": {},
   "source": [
    "### Discuss the results"
   ]
  },
  {
   "cell_type": "markdown",
   "id": "59358dcf",
   "metadata": {},
   "source": [
    "Report:\n",
    "\n",
    ". TN (True Negative) = No CHD predicted correctly (216)\n",
    "\n",
    ". TP = CHD predicted correctly (1182)\n",
    "\n",
    ". FP = Actually no CHD but predicted yes (0)\n",
    "\n",
    ". FN = Actually CHD predicted no CHD (0)"
   ]
  },
  {
   "attachments": {
    "image.png": {
     "image/png": "[encoded data removed]"
    }
   },
   "cell_type": "markdown",
   "id": "bffe51c7",
   "metadata": {},
   "source": [
    "## Predicting new results where the actual results are given\n",
    "![image.png](attachment:image.png)"
   ]
  },
  {
   "cell_type": "code",
   "execution_count": 94,
   "id": "972c9991",
   "metadata": {},
   "outputs": [
    {
     "data": {
      "text/plain": [
       "array([1], dtype=int64)"
      ]
     },
     "execution_count": 94,
     "metadata": {},
     "output_type": "execute_result"
    }
   ],
   "source": [
    "classifier.predict([[1,44,1,217,144,89,25.16,68,60,0]])"
   ]
  },
  {
   "cell_type": "code",
   "execution_count": 95,
   "id": "2cb4b093",
   "metadata": {},
   "outputs": [
    {
     "data": {
      "text/plain": [
       "array([1], dtype=int64)"
      ]
     },
     "execution_count": 95,
     "metadata": {},
     "output_type": "execute_result"
    }
   ],
   "source": [
    "classifier.predict([[1,50,1,249,133,88,28.5,75,75,1]])"
   ]
  },
  {
   "cell_type": "code",
   "execution_count": 93,
   "id": "d5e57bf5",
   "metadata": {
    "scrolled": true
   },
   "outputs": [
    {
     "data": {
      "text/plain": [
       "array([1], dtype=int64)"
      ]
     },
     "execution_count": 93,
     "metadata": {},
     "output_type": "execute_result"
    }
   ],
   "source": [
    "classifier.predict([[1,56,0,256,147,96,30.42,71,75,0]])"
   ]
  },
  {
   "cell_type": "markdown",
   "id": "c59e424f",
   "metadata": {},
   "source": [
    "### Summary"
   ]
  },
  {
   "cell_type": "code",
   "execution_count": 91,
   "id": "b81d1940",
   "metadata": {},
   "outputs": [
    {
     "name": "stdout",
     "output_type": "stream",
     "text": [
      "              precision    recall  f1-score   support\n",
      "\n",
      "           0       1.00      1.00      1.00      1182\n",
      "           1       1.00      1.00      1.00       216\n",
      "\n",
      "    accuracy                           1.00      1398\n",
      "   macro avg       1.00      1.00      1.00      1398\n",
      "weighted avg       1.00      1.00      1.00      1398\n",
      "\n"
     ]
    }
   ],
   "source": [
    "print(classification_report(y_test,y_pred))"
   ]
  },
  {
   "cell_type": "code",
   "execution_count": null,
   "id": "5abb6616",
   "metadata": {},
   "outputs": [],
   "source": [
    "# accuracy score 1.00 or a 100%"
   ]
  },
  {
   "cell_type": "markdown",
   "id": "a500f885",
   "metadata": {},
   "source": [
    "It is an balanced dataset as there is an equal amount of 0's  1's to support the prediction that is being done by the data set. I used mean for most of my preprocessing, the mean is still not much different than the median. There was a simple error in the code as I had to run it over one more time, to get the correct answers. But other than that everything was fine as the model prediction's is a 100% accurate with what the data acutally is. "
   ]
  }
 ],
 "metadata": {
  "kernelspec": {
   "display_name": "Python 3 (ipykernel)",
   "language": "python",
   "name": "python3"
  },
  "language_info": {
   "codemirror_mode": {
    "name": "ipython",
    "version": 3
   },
   "file_extension": ".py",
   "mimetype": "text/x-python",
   "name": "python",
   "nbconvert_exporter": "python",
   "pygments_lexer": "ipython3",
   "version": "3.9.13"
  }
 },
 "nbformat": 4,
 "nbformat_minor": 5
}
